{
 "cells": [
  {
   "cell_type": "code",
   "execution_count": 5,
   "id": "e3fda968",
   "metadata": {},
   "outputs": [],
   "source": [
    "import pandas as pd\n",
    "import numpy as np\n",
    "import matplotlib.pyplot as plt\n",
    "import seaborn as sns"
   ]
  },
  {
   "cell_type": "markdown",
   "id": "86140db0",
   "metadata": {},
   "source": [
    "## Loading Dataset"
   ]
  },
  {
   "cell_type": "code",
   "execution_count": 6,
   "id": "557e6a93",
   "metadata": {},
   "outputs": [
    {
     "data": {
      "text/html": [
       "<div>\n",
       "<style scoped>\n",
       "    .dataframe tbody tr th:only-of-type {\n",
       "        vertical-align: middle;\n",
       "    }\n",
       "\n",
       "    .dataframe tbody tr th {\n",
       "        vertical-align: top;\n",
       "    }\n",
       "\n",
       "    .dataframe thead th {\n",
       "        text-align: right;\n",
       "    }\n",
       "</style>\n",
       "<table border=\"1\" class=\"dataframe\">\n",
       "  <thead>\n",
       "    <tr style=\"text-align: right;\">\n",
       "      <th></th>\n",
       "      <th>Id</th>\n",
       "      <th>Model</th>\n",
       "      <th>Price</th>\n",
       "      <th>Age_08_04</th>\n",
       "      <th>Mfg_Month</th>\n",
       "      <th>Mfg_Year</th>\n",
       "      <th>KM</th>\n",
       "      <th>Fuel_Type</th>\n",
       "      <th>HP</th>\n",
       "      <th>Met_Color</th>\n",
       "      <th>...</th>\n",
       "      <th>Powered_Windows</th>\n",
       "      <th>Power_Steering</th>\n",
       "      <th>Radio</th>\n",
       "      <th>Mistlamps</th>\n",
       "      <th>Sport_Model</th>\n",
       "      <th>Backseat_Divider</th>\n",
       "      <th>Metallic_Rim</th>\n",
       "      <th>Radio_cassette</th>\n",
       "      <th>Parking_Assistant</th>\n",
       "      <th>Tow_Bar</th>\n",
       "    </tr>\n",
       "  </thead>\n",
       "  <tbody>\n",
       "    <tr>\n",
       "      <th>0</th>\n",
       "      <td>1</td>\n",
       "      <td>TOYOTA Corolla 2.0 D4D HATCHB TERRA 2/3-Doors</td>\n",
       "      <td>13500</td>\n",
       "      <td>23</td>\n",
       "      <td>10</td>\n",
       "      <td>2002</td>\n",
       "      <td>46986</td>\n",
       "      <td>Diesel</td>\n",
       "      <td>90</td>\n",
       "      <td>1</td>\n",
       "      <td>...</td>\n",
       "      <td>1</td>\n",
       "      <td>1</td>\n",
       "      <td>0</td>\n",
       "      <td>0</td>\n",
       "      <td>0</td>\n",
       "      <td>1</td>\n",
       "      <td>0</td>\n",
       "      <td>0</td>\n",
       "      <td>0</td>\n",
       "      <td>0</td>\n",
       "    </tr>\n",
       "    <tr>\n",
       "      <th>1</th>\n",
       "      <td>2</td>\n",
       "      <td>TOYOTA Corolla 2.0 D4D HATCHB TERRA 2/3-Doors</td>\n",
       "      <td>13750</td>\n",
       "      <td>23</td>\n",
       "      <td>10</td>\n",
       "      <td>2002</td>\n",
       "      <td>72937</td>\n",
       "      <td>Diesel</td>\n",
       "      <td>90</td>\n",
       "      <td>1</td>\n",
       "      <td>...</td>\n",
       "      <td>0</td>\n",
       "      <td>1</td>\n",
       "      <td>0</td>\n",
       "      <td>0</td>\n",
       "      <td>0</td>\n",
       "      <td>1</td>\n",
       "      <td>0</td>\n",
       "      <td>0</td>\n",
       "      <td>0</td>\n",
       "      <td>0</td>\n",
       "    </tr>\n",
       "    <tr>\n",
       "      <th>2</th>\n",
       "      <td>3</td>\n",
       "      <td>TOYOTA Corolla 2.0 D4D HATCHB TERRA 2/3-Doors</td>\n",
       "      <td>13950</td>\n",
       "      <td>24</td>\n",
       "      <td>9</td>\n",
       "      <td>2002</td>\n",
       "      <td>41711</td>\n",
       "      <td>Diesel</td>\n",
       "      <td>90</td>\n",
       "      <td>1</td>\n",
       "      <td>...</td>\n",
       "      <td>0</td>\n",
       "      <td>1</td>\n",
       "      <td>0</td>\n",
       "      <td>0</td>\n",
       "      <td>0</td>\n",
       "      <td>1</td>\n",
       "      <td>0</td>\n",
       "      <td>0</td>\n",
       "      <td>0</td>\n",
       "      <td>0</td>\n",
       "    </tr>\n",
       "    <tr>\n",
       "      <th>3</th>\n",
       "      <td>4</td>\n",
       "      <td>TOYOTA Corolla 2.0 D4D HATCHB TERRA 2/3-Doors</td>\n",
       "      <td>14950</td>\n",
       "      <td>26</td>\n",
       "      <td>7</td>\n",
       "      <td>2002</td>\n",
       "      <td>48000</td>\n",
       "      <td>Diesel</td>\n",
       "      <td>90</td>\n",
       "      <td>0</td>\n",
       "      <td>...</td>\n",
       "      <td>0</td>\n",
       "      <td>1</td>\n",
       "      <td>0</td>\n",
       "      <td>0</td>\n",
       "      <td>0</td>\n",
       "      <td>1</td>\n",
       "      <td>0</td>\n",
       "      <td>0</td>\n",
       "      <td>0</td>\n",
       "      <td>0</td>\n",
       "    </tr>\n",
       "    <tr>\n",
       "      <th>4</th>\n",
       "      <td>5</td>\n",
       "      <td>TOYOTA Corolla 2.0 D4D HATCHB SOL 2/3-Doors</td>\n",
       "      <td>13750</td>\n",
       "      <td>30</td>\n",
       "      <td>3</td>\n",
       "      <td>2002</td>\n",
       "      <td>38500</td>\n",
       "      <td>Diesel</td>\n",
       "      <td>90</td>\n",
       "      <td>0</td>\n",
       "      <td>...</td>\n",
       "      <td>1</td>\n",
       "      <td>1</td>\n",
       "      <td>0</td>\n",
       "      <td>1</td>\n",
       "      <td>0</td>\n",
       "      <td>1</td>\n",
       "      <td>0</td>\n",
       "      <td>0</td>\n",
       "      <td>0</td>\n",
       "      <td>0</td>\n",
       "    </tr>\n",
       "    <tr>\n",
       "      <th>...</th>\n",
       "      <td>...</td>\n",
       "      <td>...</td>\n",
       "      <td>...</td>\n",
       "      <td>...</td>\n",
       "      <td>...</td>\n",
       "      <td>...</td>\n",
       "      <td>...</td>\n",
       "      <td>...</td>\n",
       "      <td>...</td>\n",
       "      <td>...</td>\n",
       "      <td>...</td>\n",
       "      <td>...</td>\n",
       "      <td>...</td>\n",
       "      <td>...</td>\n",
       "      <td>...</td>\n",
       "      <td>...</td>\n",
       "      <td>...</td>\n",
       "      <td>...</td>\n",
       "      <td>...</td>\n",
       "      <td>...</td>\n",
       "      <td>...</td>\n",
       "    </tr>\n",
       "    <tr>\n",
       "      <th>1431</th>\n",
       "      <td>1438</td>\n",
       "      <td>TOYOTA Corolla 1.3 16V HATCHB G6 2/3-Doors</td>\n",
       "      <td>7500</td>\n",
       "      <td>69</td>\n",
       "      <td>12</td>\n",
       "      <td>1998</td>\n",
       "      <td>20544</td>\n",
       "      <td>Petrol</td>\n",
       "      <td>86</td>\n",
       "      <td>1</td>\n",
       "      <td>...</td>\n",
       "      <td>1</td>\n",
       "      <td>1</td>\n",
       "      <td>0</td>\n",
       "      <td>1</td>\n",
       "      <td>1</td>\n",
       "      <td>1</td>\n",
       "      <td>0</td>\n",
       "      <td>0</td>\n",
       "      <td>0</td>\n",
       "      <td>0</td>\n",
       "    </tr>\n",
       "    <tr>\n",
       "      <th>1432</th>\n",
       "      <td>1439</td>\n",
       "      <td>TOYOTA Corolla 1.3 16V HATCHB LINEA TERRA 2/3-...</td>\n",
       "      <td>10845</td>\n",
       "      <td>72</td>\n",
       "      <td>9</td>\n",
       "      <td>1998</td>\n",
       "      <td>19000</td>\n",
       "      <td>Petrol</td>\n",
       "      <td>86</td>\n",
       "      <td>0</td>\n",
       "      <td>...</td>\n",
       "      <td>0</td>\n",
       "      <td>1</td>\n",
       "      <td>0</td>\n",
       "      <td>0</td>\n",
       "      <td>1</td>\n",
       "      <td>1</td>\n",
       "      <td>0</td>\n",
       "      <td>0</td>\n",
       "      <td>0</td>\n",
       "      <td>0</td>\n",
       "    </tr>\n",
       "    <tr>\n",
       "      <th>1433</th>\n",
       "      <td>1440</td>\n",
       "      <td>TOYOTA Corolla 1.3 16V HATCHB LINEA TERRA 2/3-...</td>\n",
       "      <td>8500</td>\n",
       "      <td>71</td>\n",
       "      <td>10</td>\n",
       "      <td>1998</td>\n",
       "      <td>17016</td>\n",
       "      <td>Petrol</td>\n",
       "      <td>86</td>\n",
       "      <td>0</td>\n",
       "      <td>...</td>\n",
       "      <td>0</td>\n",
       "      <td>1</td>\n",
       "      <td>0</td>\n",
       "      <td>0</td>\n",
       "      <td>0</td>\n",
       "      <td>1</td>\n",
       "      <td>0</td>\n",
       "      <td>0</td>\n",
       "      <td>0</td>\n",
       "      <td>0</td>\n",
       "    </tr>\n",
       "    <tr>\n",
       "      <th>1434</th>\n",
       "      <td>1441</td>\n",
       "      <td>TOYOTA Corolla 1.3 16V HATCHB LINEA TERRA 2/3-...</td>\n",
       "      <td>7250</td>\n",
       "      <td>70</td>\n",
       "      <td>11</td>\n",
       "      <td>1998</td>\n",
       "      <td>16916</td>\n",
       "      <td>Petrol</td>\n",
       "      <td>86</td>\n",
       "      <td>1</td>\n",
       "      <td>...</td>\n",
       "      <td>0</td>\n",
       "      <td>0</td>\n",
       "      <td>0</td>\n",
       "      <td>0</td>\n",
       "      <td>0</td>\n",
       "      <td>1</td>\n",
       "      <td>0</td>\n",
       "      <td>0</td>\n",
       "      <td>0</td>\n",
       "      <td>0</td>\n",
       "    </tr>\n",
       "    <tr>\n",
       "      <th>1435</th>\n",
       "      <td>1442</td>\n",
       "      <td>TOYOTA Corolla 1.6 LB LINEA TERRA 4/5-Doors</td>\n",
       "      <td>6950</td>\n",
       "      <td>76</td>\n",
       "      <td>5</td>\n",
       "      <td>1998</td>\n",
       "      <td>1</td>\n",
       "      <td>Petrol</td>\n",
       "      <td>110</td>\n",
       "      <td>0</td>\n",
       "      <td>...</td>\n",
       "      <td>0</td>\n",
       "      <td>1</td>\n",
       "      <td>0</td>\n",
       "      <td>0</td>\n",
       "      <td>0</td>\n",
       "      <td>0</td>\n",
       "      <td>0</td>\n",
       "      <td>0</td>\n",
       "      <td>0</td>\n",
       "      <td>0</td>\n",
       "    </tr>\n",
       "  </tbody>\n",
       "</table>\n",
       "<p>1436 rows × 39 columns</p>\n",
       "</div>"
      ],
      "text/plain": [
       "        Id                                              Model  Price  \\\n",
       "0        1      TOYOTA Corolla 2.0 D4D HATCHB TERRA 2/3-Doors  13500   \n",
       "1        2      TOYOTA Corolla 2.0 D4D HATCHB TERRA 2/3-Doors  13750   \n",
       "2        3      TOYOTA Corolla 2.0 D4D HATCHB TERRA 2/3-Doors  13950   \n",
       "3        4      TOYOTA Corolla 2.0 D4D HATCHB TERRA 2/3-Doors  14950   \n",
       "4        5        TOYOTA Corolla 2.0 D4D HATCHB SOL 2/3-Doors  13750   \n",
       "...    ...                                                ...    ...   \n",
       "1431  1438         TOYOTA Corolla 1.3 16V HATCHB G6 2/3-Doors   7500   \n",
       "1432  1439  TOYOTA Corolla 1.3 16V HATCHB LINEA TERRA 2/3-...  10845   \n",
       "1433  1440  TOYOTA Corolla 1.3 16V HATCHB LINEA TERRA 2/3-...   8500   \n",
       "1434  1441  TOYOTA Corolla 1.3 16V HATCHB LINEA TERRA 2/3-...   7250   \n",
       "1435  1442        TOYOTA Corolla 1.6 LB LINEA TERRA 4/5-Doors   6950   \n",
       "\n",
       "      Age_08_04  Mfg_Month  Mfg_Year     KM Fuel_Type   HP  Met_Color  ...  \\\n",
       "0            23         10      2002  46986    Diesel   90          1  ...   \n",
       "1            23         10      2002  72937    Diesel   90          1  ...   \n",
       "2            24          9      2002  41711    Diesel   90          1  ...   \n",
       "3            26          7      2002  48000    Diesel   90          0  ...   \n",
       "4            30          3      2002  38500    Diesel   90          0  ...   \n",
       "...         ...        ...       ...    ...       ...  ...        ...  ...   \n",
       "1431         69         12      1998  20544    Petrol   86          1  ...   \n",
       "1432         72          9      1998  19000    Petrol   86          0  ...   \n",
       "1433         71         10      1998  17016    Petrol   86          0  ...   \n",
       "1434         70         11      1998  16916    Petrol   86          1  ...   \n",
       "1435         76          5      1998      1    Petrol  110          0  ...   \n",
       "\n",
       "     Powered_Windows  Power_Steering  Radio  Mistlamps  Sport_Model  \\\n",
       "0                  1               1      0          0            0   \n",
       "1                  0               1      0          0            0   \n",
       "2                  0               1      0          0            0   \n",
       "3                  0               1      0          0            0   \n",
       "4                  1               1      0          1            0   \n",
       "...              ...             ...    ...        ...          ...   \n",
       "1431               1               1      0          1            1   \n",
       "1432               0               1      0          0            1   \n",
       "1433               0               1      0          0            0   \n",
       "1434               0               0      0          0            0   \n",
       "1435               0               1      0          0            0   \n",
       "\n",
       "      Backseat_Divider  Metallic_Rim  Radio_cassette  Parking_Assistant  \\\n",
       "0                    1             0               0                  0   \n",
       "1                    1             0               0                  0   \n",
       "2                    1             0               0                  0   \n",
       "3                    1             0               0                  0   \n",
       "4                    1             0               0                  0   \n",
       "...                ...           ...             ...                ...   \n",
       "1431                 1             0               0                  0   \n",
       "1432                 1             0               0                  0   \n",
       "1433                 1             0               0                  0   \n",
       "1434                 1             0               0                  0   \n",
       "1435                 0             0               0                  0   \n",
       "\n",
       "      Tow_Bar  \n",
       "0           0  \n",
       "1           0  \n",
       "2           0  \n",
       "3           0  \n",
       "4           0  \n",
       "...       ...  \n",
       "1431        0  \n",
       "1432        0  \n",
       "1433        0  \n",
       "1434        0  \n",
       "1435        0  \n",
       "\n",
       "[1436 rows x 39 columns]"
      ]
     },
     "execution_count": 6,
     "metadata": {},
     "output_type": "execute_result"
    }
   ],
   "source": [
    "df = pd.read_csv(\"C:\\Sravya\\Smart Bridge\\ToyotaCorolla.csv\")\n",
    "df"
   ]
  },
  {
   "cell_type": "code",
   "execution_count": 7,
   "id": "c3b38fe6",
   "metadata": {},
   "outputs": [
    {
     "data": {
      "text/plain": [
       "(1436, 39)"
      ]
     },
     "execution_count": 7,
     "metadata": {},
     "output_type": "execute_result"
    }
   ],
   "source": [
    "df.shape"
   ]
  },
  {
   "cell_type": "code",
   "execution_count": 8,
   "id": "2c492c51",
   "metadata": {},
   "outputs": [
    {
     "data": {
      "text/html": [
       "<div>\n",
       "<style scoped>\n",
       "    .dataframe tbody tr th:only-of-type {\n",
       "        vertical-align: middle;\n",
       "    }\n",
       "\n",
       "    .dataframe tbody tr th {\n",
       "        vertical-align: top;\n",
       "    }\n",
       "\n",
       "    .dataframe thead th {\n",
       "        text-align: right;\n",
       "    }\n",
       "</style>\n",
       "<table border=\"1\" class=\"dataframe\">\n",
       "  <thead>\n",
       "    <tr style=\"text-align: right;\">\n",
       "      <th></th>\n",
       "      <th>Id</th>\n",
       "      <th>Price</th>\n",
       "      <th>Age_08_04</th>\n",
       "      <th>Mfg_Month</th>\n",
       "      <th>Mfg_Year</th>\n",
       "      <th>KM</th>\n",
       "      <th>HP</th>\n",
       "      <th>Met_Color</th>\n",
       "      <th>Automatic</th>\n",
       "      <th>CC</th>\n",
       "      <th>...</th>\n",
       "      <th>Powered_Windows</th>\n",
       "      <th>Power_Steering</th>\n",
       "      <th>Radio</th>\n",
       "      <th>Mistlamps</th>\n",
       "      <th>Sport_Model</th>\n",
       "      <th>Backseat_Divider</th>\n",
       "      <th>Metallic_Rim</th>\n",
       "      <th>Radio_cassette</th>\n",
       "      <th>Parking_Assistant</th>\n",
       "      <th>Tow_Bar</th>\n",
       "    </tr>\n",
       "  </thead>\n",
       "  <tbody>\n",
       "    <tr>\n",
       "      <th>count</th>\n",
       "      <td>1436.000000</td>\n",
       "      <td>1436.000000</td>\n",
       "      <td>1436.000000</td>\n",
       "      <td>1436.000000</td>\n",
       "      <td>1436.000000</td>\n",
       "      <td>1436.000000</td>\n",
       "      <td>1436.000000</td>\n",
       "      <td>1436.000000</td>\n",
       "      <td>1436.000000</td>\n",
       "      <td>1436.00000</td>\n",
       "      <td>...</td>\n",
       "      <td>1436.000000</td>\n",
       "      <td>1436.000000</td>\n",
       "      <td>1436.000000</td>\n",
       "      <td>1436.000000</td>\n",
       "      <td>1436.000000</td>\n",
       "      <td>1436.000000</td>\n",
       "      <td>1436.000000</td>\n",
       "      <td>1436.000000</td>\n",
       "      <td>1436.000000</td>\n",
       "      <td>1436.000000</td>\n",
       "    </tr>\n",
       "    <tr>\n",
       "      <th>mean</th>\n",
       "      <td>721.555014</td>\n",
       "      <td>10730.824513</td>\n",
       "      <td>55.947075</td>\n",
       "      <td>5.548747</td>\n",
       "      <td>1999.625348</td>\n",
       "      <td>68533.259749</td>\n",
       "      <td>101.502089</td>\n",
       "      <td>0.674791</td>\n",
       "      <td>0.055710</td>\n",
       "      <td>1576.85585</td>\n",
       "      <td>...</td>\n",
       "      <td>0.561978</td>\n",
       "      <td>0.977716</td>\n",
       "      <td>0.146240</td>\n",
       "      <td>0.256964</td>\n",
       "      <td>0.300139</td>\n",
       "      <td>0.770195</td>\n",
       "      <td>0.204735</td>\n",
       "      <td>0.145543</td>\n",
       "      <td>0.002786</td>\n",
       "      <td>0.277855</td>\n",
       "    </tr>\n",
       "    <tr>\n",
       "      <th>std</th>\n",
       "      <td>416.476890</td>\n",
       "      <td>3626.964585</td>\n",
       "      <td>18.599988</td>\n",
       "      <td>3.354085</td>\n",
       "      <td>1.540722</td>\n",
       "      <td>37506.448872</td>\n",
       "      <td>14.981080</td>\n",
       "      <td>0.468616</td>\n",
       "      <td>0.229441</td>\n",
       "      <td>424.38677</td>\n",
       "      <td>...</td>\n",
       "      <td>0.496317</td>\n",
       "      <td>0.147657</td>\n",
       "      <td>0.353469</td>\n",
       "      <td>0.437111</td>\n",
       "      <td>0.458478</td>\n",
       "      <td>0.420854</td>\n",
       "      <td>0.403649</td>\n",
       "      <td>0.352770</td>\n",
       "      <td>0.052723</td>\n",
       "      <td>0.448098</td>\n",
       "    </tr>\n",
       "    <tr>\n",
       "      <th>min</th>\n",
       "      <td>1.000000</td>\n",
       "      <td>4350.000000</td>\n",
       "      <td>1.000000</td>\n",
       "      <td>1.000000</td>\n",
       "      <td>1998.000000</td>\n",
       "      <td>1.000000</td>\n",
       "      <td>69.000000</td>\n",
       "      <td>0.000000</td>\n",
       "      <td>0.000000</td>\n",
       "      <td>1300.00000</td>\n",
       "      <td>...</td>\n",
       "      <td>0.000000</td>\n",
       "      <td>0.000000</td>\n",
       "      <td>0.000000</td>\n",
       "      <td>0.000000</td>\n",
       "      <td>0.000000</td>\n",
       "      <td>0.000000</td>\n",
       "      <td>0.000000</td>\n",
       "      <td>0.000000</td>\n",
       "      <td>0.000000</td>\n",
       "      <td>0.000000</td>\n",
       "    </tr>\n",
       "    <tr>\n",
       "      <th>25%</th>\n",
       "      <td>361.750000</td>\n",
       "      <td>8450.000000</td>\n",
       "      <td>44.000000</td>\n",
       "      <td>3.000000</td>\n",
       "      <td>1998.000000</td>\n",
       "      <td>43000.000000</td>\n",
       "      <td>90.000000</td>\n",
       "      <td>0.000000</td>\n",
       "      <td>0.000000</td>\n",
       "      <td>1400.00000</td>\n",
       "      <td>...</td>\n",
       "      <td>0.000000</td>\n",
       "      <td>1.000000</td>\n",
       "      <td>0.000000</td>\n",
       "      <td>0.000000</td>\n",
       "      <td>0.000000</td>\n",
       "      <td>1.000000</td>\n",
       "      <td>0.000000</td>\n",
       "      <td>0.000000</td>\n",
       "      <td>0.000000</td>\n",
       "      <td>0.000000</td>\n",
       "    </tr>\n",
       "    <tr>\n",
       "      <th>50%</th>\n",
       "      <td>721.500000</td>\n",
       "      <td>9900.000000</td>\n",
       "      <td>61.000000</td>\n",
       "      <td>5.000000</td>\n",
       "      <td>1999.000000</td>\n",
       "      <td>63389.500000</td>\n",
       "      <td>110.000000</td>\n",
       "      <td>1.000000</td>\n",
       "      <td>0.000000</td>\n",
       "      <td>1600.00000</td>\n",
       "      <td>...</td>\n",
       "      <td>1.000000</td>\n",
       "      <td>1.000000</td>\n",
       "      <td>0.000000</td>\n",
       "      <td>0.000000</td>\n",
       "      <td>0.000000</td>\n",
       "      <td>1.000000</td>\n",
       "      <td>0.000000</td>\n",
       "      <td>0.000000</td>\n",
       "      <td>0.000000</td>\n",
       "      <td>0.000000</td>\n",
       "    </tr>\n",
       "    <tr>\n",
       "      <th>75%</th>\n",
       "      <td>1081.250000</td>\n",
       "      <td>11950.000000</td>\n",
       "      <td>70.000000</td>\n",
       "      <td>8.000000</td>\n",
       "      <td>2001.000000</td>\n",
       "      <td>87020.750000</td>\n",
       "      <td>110.000000</td>\n",
       "      <td>1.000000</td>\n",
       "      <td>0.000000</td>\n",
       "      <td>1600.00000</td>\n",
       "      <td>...</td>\n",
       "      <td>1.000000</td>\n",
       "      <td>1.000000</td>\n",
       "      <td>0.000000</td>\n",
       "      <td>1.000000</td>\n",
       "      <td>1.000000</td>\n",
       "      <td>1.000000</td>\n",
       "      <td>0.000000</td>\n",
       "      <td>0.000000</td>\n",
       "      <td>0.000000</td>\n",
       "      <td>1.000000</td>\n",
       "    </tr>\n",
       "    <tr>\n",
       "      <th>max</th>\n",
       "      <td>1442.000000</td>\n",
       "      <td>32500.000000</td>\n",
       "      <td>80.000000</td>\n",
       "      <td>12.000000</td>\n",
       "      <td>2004.000000</td>\n",
       "      <td>243000.000000</td>\n",
       "      <td>192.000000</td>\n",
       "      <td>1.000000</td>\n",
       "      <td>1.000000</td>\n",
       "      <td>16000.00000</td>\n",
       "      <td>...</td>\n",
       "      <td>1.000000</td>\n",
       "      <td>1.000000</td>\n",
       "      <td>1.000000</td>\n",
       "      <td>1.000000</td>\n",
       "      <td>1.000000</td>\n",
       "      <td>1.000000</td>\n",
       "      <td>1.000000</td>\n",
       "      <td>1.000000</td>\n",
       "      <td>1.000000</td>\n",
       "      <td>1.000000</td>\n",
       "    </tr>\n",
       "  </tbody>\n",
       "</table>\n",
       "<p>8 rows × 36 columns</p>\n",
       "</div>"
      ],
      "text/plain": [
       "                Id         Price    Age_08_04    Mfg_Month     Mfg_Year  \\\n",
       "count  1436.000000   1436.000000  1436.000000  1436.000000  1436.000000   \n",
       "mean    721.555014  10730.824513    55.947075     5.548747  1999.625348   \n",
       "std     416.476890   3626.964585    18.599988     3.354085     1.540722   \n",
       "min       1.000000   4350.000000     1.000000     1.000000  1998.000000   \n",
       "25%     361.750000   8450.000000    44.000000     3.000000  1998.000000   \n",
       "50%     721.500000   9900.000000    61.000000     5.000000  1999.000000   \n",
       "75%    1081.250000  11950.000000    70.000000     8.000000  2001.000000   \n",
       "max    1442.000000  32500.000000    80.000000    12.000000  2004.000000   \n",
       "\n",
       "                  KM           HP    Met_Color    Automatic           CC  ...  \\\n",
       "count    1436.000000  1436.000000  1436.000000  1436.000000   1436.00000  ...   \n",
       "mean    68533.259749   101.502089     0.674791     0.055710   1576.85585  ...   \n",
       "std     37506.448872    14.981080     0.468616     0.229441    424.38677  ...   \n",
       "min         1.000000    69.000000     0.000000     0.000000   1300.00000  ...   \n",
       "25%     43000.000000    90.000000     0.000000     0.000000   1400.00000  ...   \n",
       "50%     63389.500000   110.000000     1.000000     0.000000   1600.00000  ...   \n",
       "75%     87020.750000   110.000000     1.000000     0.000000   1600.00000  ...   \n",
       "max    243000.000000   192.000000     1.000000     1.000000  16000.00000  ...   \n",
       "\n",
       "       Powered_Windows  Power_Steering        Radio    Mistlamps  Sport_Model  \\\n",
       "count      1436.000000     1436.000000  1436.000000  1436.000000  1436.000000   \n",
       "mean          0.561978        0.977716     0.146240     0.256964     0.300139   \n",
       "std           0.496317        0.147657     0.353469     0.437111     0.458478   \n",
       "min           0.000000        0.000000     0.000000     0.000000     0.000000   \n",
       "25%           0.000000        1.000000     0.000000     0.000000     0.000000   \n",
       "50%           1.000000        1.000000     0.000000     0.000000     0.000000   \n",
       "75%           1.000000        1.000000     0.000000     1.000000     1.000000   \n",
       "max           1.000000        1.000000     1.000000     1.000000     1.000000   \n",
       "\n",
       "       Backseat_Divider  Metallic_Rim  Radio_cassette  Parking_Assistant  \\\n",
       "count       1436.000000   1436.000000     1436.000000        1436.000000   \n",
       "mean           0.770195      0.204735        0.145543           0.002786   \n",
       "std            0.420854      0.403649        0.352770           0.052723   \n",
       "min            0.000000      0.000000        0.000000           0.000000   \n",
       "25%            1.000000      0.000000        0.000000           0.000000   \n",
       "50%            1.000000      0.000000        0.000000           0.000000   \n",
       "75%            1.000000      0.000000        0.000000           0.000000   \n",
       "max            1.000000      1.000000        1.000000           1.000000   \n",
       "\n",
       "           Tow_Bar  \n",
       "count  1436.000000  \n",
       "mean      0.277855  \n",
       "std       0.448098  \n",
       "min       0.000000  \n",
       "25%       0.000000  \n",
       "50%       0.000000  \n",
       "75%       1.000000  \n",
       "max       1.000000  \n",
       "\n",
       "[8 rows x 36 columns]"
      ]
     },
     "execution_count": 8,
     "metadata": {},
     "output_type": "execute_result"
    }
   ],
   "source": [
    "df.describe()"
   ]
  },
  {
   "cell_type": "code",
   "execution_count": 9,
   "id": "ddf56300",
   "metadata": {},
   "outputs": [
    {
     "name": "stdout",
     "output_type": "stream",
     "text": [
      "<class 'pandas.core.frame.DataFrame'>\n",
      "RangeIndex: 1436 entries, 0 to 1435\n",
      "Data columns (total 39 columns):\n",
      " #   Column             Non-Null Count  Dtype \n",
      "---  ------             --------------  ----- \n",
      " 0   Id                 1436 non-null   int64 \n",
      " 1   Model              1436 non-null   object\n",
      " 2   Price              1436 non-null   int64 \n",
      " 3   Age_08_04          1436 non-null   int64 \n",
      " 4   Mfg_Month          1436 non-null   int64 \n",
      " 5   Mfg_Year           1436 non-null   int64 \n",
      " 6   KM                 1436 non-null   int64 \n",
      " 7   Fuel_Type          1436 non-null   object\n",
      " 8   HP                 1436 non-null   int64 \n",
      " 9   Met_Color          1436 non-null   int64 \n",
      " 10  Color              1436 non-null   object\n",
      " 11  Automatic          1436 non-null   int64 \n",
      " 12  CC                 1436 non-null   int64 \n",
      " 13  Doors              1436 non-null   int64 \n",
      " 14  Cylinders          1436 non-null   int64 \n",
      " 15  Gears              1436 non-null   int64 \n",
      " 16  Quarterly_Tax      1436 non-null   int64 \n",
      " 17  Weight             1436 non-null   int64 \n",
      " 18  Mfr_Guarantee      1436 non-null   int64 \n",
      " 19  BOVAG_Guarantee    1436 non-null   int64 \n",
      " 20  Guarantee_Period   1436 non-null   int64 \n",
      " 21  ABS                1436 non-null   int64 \n",
      " 22  Airbag_1           1436 non-null   int64 \n",
      " 23  Airbag_2           1436 non-null   int64 \n",
      " 24  Airco              1436 non-null   int64 \n",
      " 25  Automatic_airco    1436 non-null   int64 \n",
      " 26  Boardcomputer      1436 non-null   int64 \n",
      " 27  CD_Player          1436 non-null   int64 \n",
      " 28  Central_Lock       1436 non-null   int64 \n",
      " 29  Powered_Windows    1436 non-null   int64 \n",
      " 30  Power_Steering     1436 non-null   int64 \n",
      " 31  Radio              1436 non-null   int64 \n",
      " 32  Mistlamps          1436 non-null   int64 \n",
      " 33  Sport_Model        1436 non-null   int64 \n",
      " 34  Backseat_Divider   1436 non-null   int64 \n",
      " 35  Metallic_Rim       1436 non-null   int64 \n",
      " 36  Radio_cassette     1436 non-null   int64 \n",
      " 37  Parking_Assistant  1436 non-null   int64 \n",
      " 38  Tow_Bar            1436 non-null   int64 \n",
      "dtypes: int64(36), object(3)\n",
      "memory usage: 437.7+ KB\n"
     ]
    }
   ],
   "source": [
    "df.info()"
   ]
  },
  {
   "cell_type": "markdown",
   "id": "2192a777",
   "metadata": {},
   "source": [
    "## Preprocessing"
   ]
  },
  {
   "cell_type": "code",
   "execution_count": 10,
   "id": "bdd325d3",
   "metadata": {},
   "outputs": [
    {
     "data": {
      "text/plain": [
       "array([274, 273, 267, 256, 245, 239, 237, 236, 208, 134, 100,  99,  98,\n",
       "        76,  53,  52,  51, 271, 269, 270,  59, 238,  58, 106, 241, 109,\n",
       "       118, 105, 201, 264,  64,  54, 111, 108, 149,  73, 268, 262, 266,\n",
       "       258, 143, 276,  71, 102, 101, 205, 317, 318, 316, 265, 272, 263,\n",
       "       277, 103, 204,  57, 223,   2, 222, 314, 232, 240, 128, 110, 104,\n",
       "       124, 107,  56,  65, 123, 144, 146, 125,  77, 227, 226,  55, 202,\n",
       "        50, 228, 244, 278, 275, 116, 243, 242, 249, 253, 252,  61, 122,\n",
       "       257, 114, 120, 119, 198, 159, 126, 129,  62, 310,  60, 210, 246,\n",
       "       121, 112,  84, 133, 153, 196, 225, 231, 130, 189,  74,  68, 145,\n",
       "       194, 113, 215, 235, 230, 312, 117, 199, 127, 216,  15, 209, 187,\n",
       "        75, 251, 284, 214, 283, 248, 254, 247, 292,  88, 142, 163, 281,\n",
       "         8, 304, 203, 170,  70, 150, 148, 250,   5,  63, 131, 220, 193,\n",
       "       255, 311,  86,   1,  69, 207, 136,  66,  90,  27, 160,  41, 308,\n",
       "       165, 115,  13,  82, 137,  67,  24, 303, 291,  72,  21, 282, 183,\n",
       "       280,  79, 297, 295,  78, 296, 315, 206,  96, 286,  97, 151, 259,\n",
       "       138,   6,  14,  80, 289, 177, 158,  17,  35,  23, 287,  43, 161,\n",
       "       224, 152, 180,  94,  16, 197, 140,  91, 313, 212,  34,  28, 261,\n",
       "        83, 169, 186,   3, 139,  11, 191,   9, 299,  10,  95,  46, 306,\n",
       "         7, 233, 162,  22, 301, 213, 132,  85,  89,  32, 166, 298, 309,\n",
       "       219, 179,  47,   0, 174, 185,  31, 155, 154, 176, 192, 135, 172,\n",
       "        39, 190, 285, 167, 293, 290, 147, 141, 294, 279, 260, 164, 234,\n",
       "       288, 156, 181,   4,  37,  93, 173, 200,  81,  36,  49, 171,  26,\n",
       "        12, 157, 307, 178, 184,  44, 221, 188,  18, 305,  48,  45,  25,\n",
       "        40, 218, 217,  92, 229, 300,  20,  33, 182,  87, 211,  19,  30,\n",
       "       302, 168, 195,  29,  42, 175,  38])"
      ]
     },
     "execution_count": 10,
     "metadata": {},
     "output_type": "execute_result"
    }
   ],
   "source": [
    "from sklearn import preprocessing\n",
    "label_encoder = preprocessing.LabelEncoder()\n",
    "\n",
    "df['Model']= label_encoder.fit_transform(df['Model'])\n",
    "\n",
    "df['Model'].unique()"
   ]
  },
  {
   "cell_type": "code",
   "execution_count": 11,
   "id": "ca9c1e49",
   "metadata": {},
   "outputs": [
    {
     "data": {
      "text/plain": [
       "array([2, 6, 1, 8, 4, 5, 3, 9, 7, 0])"
      ]
     },
     "execution_count": 11,
     "metadata": {},
     "output_type": "execute_result"
    }
   ],
   "source": [
    "label_encoder = preprocessing.LabelEncoder()\n",
    "\n",
    "df['Color']= label_encoder.fit_transform(df['Color'])\n",
    "\n",
    "df['Color'].unique()"
   ]
  },
  {
   "cell_type": "code",
   "execution_count": 12,
   "id": "77dd01d9",
   "metadata": {},
   "outputs": [
    {
     "data": {
      "text/plain": [
       "array([1, 2, 0])"
      ]
     },
     "execution_count": 12,
     "metadata": {},
     "output_type": "execute_result"
    }
   ],
   "source": [
    "label_encoder = preprocessing.LabelEncoder()\n",
    "\n",
    "df['Fuel_Type']= label_encoder.fit_transform(df['Fuel_Type'])\n",
    "\n",
    "df['Fuel_Type'].unique()"
   ]
  },
  {
   "cell_type": "code",
   "execution_count": 13,
   "id": "43cc29b6",
   "metadata": {},
   "outputs": [
    {
     "name": "stdout",
     "output_type": "stream",
     "text": [
      "<class 'pandas.core.frame.DataFrame'>\n",
      "RangeIndex: 1436 entries, 0 to 1435\n",
      "Data columns (total 39 columns):\n",
      " #   Column             Non-Null Count  Dtype\n",
      "---  ------             --------------  -----\n",
      " 0   Id                 1436 non-null   int64\n",
      " 1   Model              1436 non-null   int32\n",
      " 2   Price              1436 non-null   int64\n",
      " 3   Age_08_04          1436 non-null   int64\n",
      " 4   Mfg_Month          1436 non-null   int64\n",
      " 5   Mfg_Year           1436 non-null   int64\n",
      " 6   KM                 1436 non-null   int64\n",
      " 7   Fuel_Type          1436 non-null   int32\n",
      " 8   HP                 1436 non-null   int64\n",
      " 9   Met_Color          1436 non-null   int64\n",
      " 10  Color              1436 non-null   int32\n",
      " 11  Automatic          1436 non-null   int64\n",
      " 12  CC                 1436 non-null   int64\n",
      " 13  Doors              1436 non-null   int64\n",
      " 14  Cylinders          1436 non-null   int64\n",
      " 15  Gears              1436 non-null   int64\n",
      " 16  Quarterly_Tax      1436 non-null   int64\n",
      " 17  Weight             1436 non-null   int64\n",
      " 18  Mfr_Guarantee      1436 non-null   int64\n",
      " 19  BOVAG_Guarantee    1436 non-null   int64\n",
      " 20  Guarantee_Period   1436 non-null   int64\n",
      " 21  ABS                1436 non-null   int64\n",
      " 22  Airbag_1           1436 non-null   int64\n",
      " 23  Airbag_2           1436 non-null   int64\n",
      " 24  Airco              1436 non-null   int64\n",
      " 25  Automatic_airco    1436 non-null   int64\n",
      " 26  Boardcomputer      1436 non-null   int64\n",
      " 27  CD_Player          1436 non-null   int64\n",
      " 28  Central_Lock       1436 non-null   int64\n",
      " 29  Powered_Windows    1436 non-null   int64\n",
      " 30  Power_Steering     1436 non-null   int64\n",
      " 31  Radio              1436 non-null   int64\n",
      " 32  Mistlamps          1436 non-null   int64\n",
      " 33  Sport_Model        1436 non-null   int64\n",
      " 34  Backseat_Divider   1436 non-null   int64\n",
      " 35  Metallic_Rim       1436 non-null   int64\n",
      " 36  Radio_cassette     1436 non-null   int64\n",
      " 37  Parking_Assistant  1436 non-null   int64\n",
      " 38  Tow_Bar            1436 non-null   int64\n",
      "dtypes: int32(3), int64(36)\n",
      "memory usage: 420.8 KB\n"
     ]
    }
   ],
   "source": [
    "df.info()"
   ]
  },
  {
   "cell_type": "code",
   "execution_count": 14,
   "id": "8518b7f5",
   "metadata": {},
   "outputs": [
    {
     "data": {
      "text/plain": [
       "Id                   0\n",
       "Model                0\n",
       "Price                0\n",
       "Age_08_04            0\n",
       "Mfg_Month            0\n",
       "Mfg_Year             0\n",
       "KM                   0\n",
       "Fuel_Type            0\n",
       "HP                   0\n",
       "Met_Color            0\n",
       "Color                0\n",
       "Automatic            0\n",
       "CC                   0\n",
       "Doors                0\n",
       "Cylinders            0\n",
       "Gears                0\n",
       "Quarterly_Tax        0\n",
       "Weight               0\n",
       "Mfr_Guarantee        0\n",
       "BOVAG_Guarantee      0\n",
       "Guarantee_Period     0\n",
       "ABS                  0\n",
       "Airbag_1             0\n",
       "Airbag_2             0\n",
       "Airco                0\n",
       "Automatic_airco      0\n",
       "Boardcomputer        0\n",
       "CD_Player            0\n",
       "Central_Lock         0\n",
       "Powered_Windows      0\n",
       "Power_Steering       0\n",
       "Radio                0\n",
       "Mistlamps            0\n",
       "Sport_Model          0\n",
       "Backseat_Divider     0\n",
       "Metallic_Rim         0\n",
       "Radio_cassette       0\n",
       "Parking_Assistant    0\n",
       "Tow_Bar              0\n",
       "dtype: int64"
      ]
     },
     "execution_count": 14,
     "metadata": {},
     "output_type": "execute_result"
    }
   ],
   "source": [
    "df.isna().sum()"
   ]
  },
  {
   "cell_type": "code",
   "execution_count": 15,
   "id": "30369ab7",
   "metadata": {},
   "outputs": [
    {
     "data": {
      "text/plain": [
       "0"
      ]
     },
     "execution_count": 15,
     "metadata": {},
     "output_type": "execute_result"
    }
   ],
   "source": [
    "df.duplicated().sum()"
   ]
  },
  {
   "cell_type": "code",
   "execution_count": 16,
   "id": "cee059fa",
   "metadata": {},
   "outputs": [
    {
     "data": {
      "text/plain": [
       "Price                1.000000\n",
       "Mfg_Year             0.885159\n",
       "Boardcomputer        0.601292\n",
       "Automatic_airco      0.588262\n",
       "Weight               0.581198\n",
       "CD_Player            0.481374\n",
       "Airco                0.429259\n",
       "Powered_Windows      0.356518\n",
       "Central_Lock         0.343458\n",
       "HP                   0.314990\n",
       "ABS                  0.306138\n",
       "Airbag_2             0.248974\n",
       "Mistlamps            0.222083\n",
       "Quarterly_Tax        0.219197\n",
       "Mfr_Guarantee        0.197802\n",
       "Model                0.197127\n",
       "Doors                0.185326\n",
       "Sport_Model          0.164121\n",
       "Guarantee_Period     0.146627\n",
       "CC                   0.126389\n",
       "Met_Color            0.108905\n",
       "Metallic_Rim         0.108564\n",
       "Backseat_Divider     0.102569\n",
       "Airbag_1             0.093588\n",
       "Power_Steering       0.064275\n",
       "Gears                0.063104\n",
       "Parking_Assistant    0.044375\n",
       "Automatic            0.033081\n",
       "BOVAG_Guarantee      0.028133\n",
       "Mfg_Month           -0.018138\n",
       "Fuel_Type           -0.022157\n",
       "Radio               -0.041887\n",
       "Radio_cassette      -0.043179\n",
       "Color               -0.051590\n",
       "Tow_Bar             -0.172369\n",
       "KM                  -0.569960\n",
       "Id                  -0.738250\n",
       "Age_08_04           -0.876590\n",
       "Cylinders                 NaN\n",
       "Name: Price, dtype: float64"
      ]
     },
     "execution_count": 16,
     "metadata": {},
     "output_type": "execute_result"
    }
   ],
   "source": [
    "corr_matrix = df.corr()\n",
    "corr_matrix['Price'].sort_values(ascending=False)"
   ]
  },
  {
   "cell_type": "markdown",
   "id": "b82f0d16",
   "metadata": {},
   "source": [
    "## Exploratory Data Analysis"
   ]
  },
  {
   "cell_type": "code",
   "execution_count": 17,
   "id": "ece7b08f",
   "metadata": {},
   "outputs": [
    {
     "data": {
      "image/png": "[encoded data removed]",
      "text/plain": [
       "<Figure size 1000x600 with 1 Axes>"
      ]
     },
     "metadata": {},
     "output_type": "display_data"
    }
   ],
   "source": [
    "top_10 = df['Model'].head(10)\n",
    "plt.figure(figsize=(10, 6))\n",
    "top_10.plot(kind='bar', color='green')\n",
    "plt.title('Top 10 Car Models')\n",
    "plt.xlabel('Cars')\n",
    "plt.ylabel('CardiacMixing Sum')\n",
    "plt.show()"
   ]
  },
  {
   "cell_type": "code",
   "execution_count": 18,
   "id": "9bc4c6b8",
   "metadata": {},
   "outputs": [
    {
     "data": {
      "image/png": "[encoded data removed]",
      "text/plain": [
       "<Figure size 1000x600 with 1 Axes>"
      ]
     },
     "metadata": {},
     "output_type": "display_data"
    }
   ],
   "source": [
    "plt.figure(figsize=(10, 6))\n",
    "df['Fuel_Type'].value_counts().plot.pie(autopct='%1.1f%%')\n",
    "plt.title(\"Distribution of Fuel Type\")\n",
    "plt.show()"
   ]
  },
  {
   "cell_type": "code",
   "execution_count": 19,
   "id": "4045db03",
   "metadata": {},
   "outputs": [
    {
     "data": {
      "image/png": "[encoded data removed]",
      "text/plain": [
       "<Figure size 1600x800 with 1 Axes>"
      ]
     },
     "metadata": {},
     "output_type": "display_data"
    }
   ],
   "source": [
    "plt.figure(figsize=(16, 8))\n",
    "sns.kdeplot(df['Model'], fill=True)\n",
    "plt.title(\"KDE Plot of Model\")\n",
    "plt.xlabel(\"Model\")\n",
    "plt.ylabel(\"Density\")\n",
    "plt.xticks(rotation=90)\n",
    "plt.show()\n"
   ]
  },
  {
   "cell_type": "code",
   "execution_count": 20,
   "id": "06b8467f",
   "metadata": {},
   "outputs": [
    {
     "data": {
      "image/png": "[encoded data removed]",
      "text/plain": [
       "<Figure size 1600x1200 with 1 Axes>"
      ]
     },
     "metadata": {},
     "output_type": "display_data"
    }
   ],
   "source": [
    "plt.figure(figsize=(16, 12))\n",
    "plt.hist(df['Model'], bins=len(df['Sport_Model'].unique()))\n",
    "plt.title(\"Histogram of Model Counts\")\n",
    "plt.xlabel(\"Model\")\n",
    "plt.ylabel(\"Count\")\n",
    "plt.xticks(rotation=90)\n",
    "plt.show()"
   ]
  },
  {
   "cell_type": "code",
   "execution_count": 21,
   "id": "48fbc74f",
   "metadata": {},
   "outputs": [
    {
     "name": "stdout",
     "output_type": "stream",
     "text": [
      "               Column Number of Outliers\n",
      "0                  Id                  0\n",
      "1               Model                  0\n",
      "2               Price                 26\n",
      "3           Age_08_04                  0\n",
      "4           Mfg_Month                  0\n",
      "5            Mfg_Year                  0\n",
      "6                  KM                 18\n",
      "7           Fuel_Type                 17\n",
      "8                  HP                 11\n",
      "9           Met_Color                  0\n",
      "10              Color                  3\n",
      "11          Automatic                 80\n",
      "12                 CC                  1\n",
      "13              Doors                  0\n",
      "14          Cylinders                  0\n",
      "15              Gears                 46\n",
      "16      Quarterly_Tax                 22\n",
      "17             Weight                 30\n",
      "18      Mfr_Guarantee                  0\n",
      "19    BOVAG_Guarantee                  0\n",
      "20   Guarantee_Period                 12\n",
      "21                ABS                  0\n",
      "22           Airbag_1                 42\n",
      "23           Airbag_2                  0\n",
      "24              Airco                  0\n",
      "25    Automatic_airco                 81\n",
      "26      Boardcomputer                  0\n",
      "27          CD_Player                  0\n",
      "28       Central_Lock                  0\n",
      "29    Powered_Windows                  0\n",
      "30     Power_Steering                 32\n",
      "31              Radio                  0\n",
      "32          Mistlamps                  0\n",
      "33        Sport_Model                  0\n",
      "34   Backseat_Divider                  0\n",
      "35       Metallic_Rim                  0\n",
      "36     Radio_cassette                  0\n",
      "37  Parking_Assistant                  4\n",
      "38            Tow_Bar                  0\n"
     ]
    }
   ],
   "source": [
    "import pandas as pd\n",
    "import numpy as np\n",
    "\n",
    "# Assuming your DataFrame is named 'df'\n",
    "z_score_threshold = 3\n",
    "\n",
    "outliers_df = pd.DataFrame(columns=['Column', 'Number of Outliers'])\n",
    "\n",
    "# Iterate through numerical columns and find outliers\n",
    "for column in df.select_dtypes(include=['int64','int32']).columns:\n",
    "    z_scores = np.abs((df[column] - df[column].mean()) / df[column].std())\n",
    "    outliers = z_scores > z_score_threshold\n",
    "    outliers_count = outliers.sum()\n",
    "    \n",
    "    outliers_df = pd.concat([outliers_df, pd.DataFrame({'Column': [column], 'Number of Outliers': [outliers_count]})], ignore_index=True)\n",
    "\n",
    "# Display columns with the number of outliers\n",
    "print(outliers_df)"
   ]
  },
  {
   "cell_type": "markdown",
   "id": "dfe6b68d",
   "metadata": {},
   "source": [
    "# Handling Outliers"
   ]
  },
  {
   "cell_type": "markdown",
   "id": "1941aa35",
   "metadata": {},
   "source": [
    "Handling Outliers For Fuel_Type Column"
   ]
  },
  {
   "cell_type": "code",
   "execution_count": 22,
   "id": "37c2d7ea",
   "metadata": {},
   "outputs": [
    {
     "name": "stdout",
     "output_type": "stream",
     "text": [
      "maxwhisker_Fuel: 2.0\n",
      "minwhisker_Fuel: 2.0\n"
     ]
    }
   ],
   "source": [
    "quant1 = df.Fuel_Type.quantile([0.75,0.25])\n",
    "Q3_Fuel=quant1.loc[0.75]\n",
    "Q1_Fuel=quant1.loc[0.25]\n",
    "IQR_Fuel = Q3_Fuel - Q1_Fuel\n",
    "maxwhisker_Fuel = Q3_Fuel + 1.5 * IQR_Fuel\n",
    "print(\"maxwhisker_Fuel:\",maxwhisker_Fuel)\n",
    "minwhisker_Fuel = Q1_Fuel - 1.5 * IQR_Fuel\n",
    "print(\"minwhisker_Fuel:\",minwhisker_Fuel)"
   ]
  },
  {
   "cell_type": "code",
   "execution_count": 23,
   "id": "0639ed94",
   "metadata": {},
   "outputs": [
    {
     "data": {
      "text/plain": [
       "0       2.0\n",
       "1       2.0\n",
       "2       2.0\n",
       "3       2.0\n",
       "4       2.0\n",
       "       ... \n",
       "1431    2.0\n",
       "1432    2.0\n",
       "1433    2.0\n",
       "1434    2.0\n",
       "1435    2.0\n",
       "Name: Fuel_Type, Length: 1436, dtype: float64"
      ]
     },
     "execution_count": 23,
     "metadata": {},
     "output_type": "execute_result"
    }
   ],
   "source": [
    "df['Fuel_Type'] = np.where(df.Fuel_Type<minwhisker_Fuel,minwhisker_Fuel,df.Fuel_Type)\n",
    "df['Fuel_Type']"
   ]
  },
  {
   "cell_type": "code",
   "execution_count": 24,
   "id": "dad58acf",
   "metadata": {},
   "outputs": [
    {
     "data": {
      "image/png": "[encoded data removed]",
      "text/plain": [
       "<Figure size 1000x600 with 1 Axes>"
      ]
     },
     "metadata": {},
     "output_type": "display_data"
    }
   ],
   "source": [
    "plt.figure(figsize=(10, 6))\n",
    "sns.boxplot(x='Fuel_Type', data=df)\n",
    "plt.title('Boxplot for Fuel_Type')\n",
    "plt.xlabel('Fuel_Type')\n",
    "plt.ylabel('Values')\n",
    "plt.xticks(rotation=90)  # Rotate x-axis labels for better visibility\n",
    "plt.show()"
   ]
  },
  {
   "cell_type": "markdown",
   "id": "4e12bef3",
   "metadata": {},
   "source": [
    "Handling Outliers For Weight Column"
   ]
  },
  {
   "cell_type": "code",
   "execution_count": 25,
   "id": "2792396f",
   "metadata": {},
   "outputs": [
    {
     "name": "stdout",
     "output_type": "stream",
     "text": [
      "maxwhisker_weight: 1152.5\n",
      "minwhisker_weight: 972.5\n"
     ]
    }
   ],
   "source": [
    "quant2 = df.Weight.quantile([0.75,0.25])\n",
    "Q3_weight=quant2.loc[0.75]\n",
    "Q1_weight=quant2.loc[0.25]\n",
    "IQR_weight = Q3_weight - Q1_weight\n",
    "maxwhisker_weight = Q3_weight + 1.5 * IQR_weight\n",
    "print(\"maxwhisker_weight:\",maxwhisker_weight)\n",
    "minwhisker_weight = Q1_weight - 1.5 * IQR_weight\n",
    "print(\"minwhisker_weight:\",minwhisker_weight)"
   ]
  },
  {
   "cell_type": "code",
   "execution_count": 26,
   "id": "725e517a",
   "metadata": {},
   "outputs": [
    {
     "data": {
      "text/plain": [
       "0       1152.5\n",
       "1       1152.5\n",
       "2       1152.5\n",
       "3       1152.5\n",
       "4       1152.5\n",
       "         ...  \n",
       "1431    1025.0\n",
       "1432    1015.0\n",
       "1433    1015.0\n",
       "1434    1015.0\n",
       "1435    1114.0\n",
       "Name: Weight, Length: 1436, dtype: float64"
      ]
     },
     "execution_count": 26,
     "metadata": {},
     "output_type": "execute_result"
    }
   ],
   "source": [
    "df['Weight'] = np.where(df.Weight>maxwhisker_weight,maxwhisker_weight,df.Weight)\n",
    "df['Weight']"
   ]
  },
  {
   "cell_type": "code",
   "execution_count": 27,
   "id": "b0424ee7",
   "metadata": {},
   "outputs": [
    {
     "data": {
      "image/png": "[encoded data removed]",
      "text/plain": [
       "<Figure size 1000x600 with 1 Axes>"
      ]
     },
     "metadata": {},
     "output_type": "display_data"
    }
   ],
   "source": [
    "plt.figure(figsize=(10, 6))\n",
    "sns.boxplot(x='Weight', data=df)\n",
    "plt.title('Boxplot for Weight')\n",
    "plt.xlabel('Weight')\n",
    "plt.ylabel('Values')\n",
    "plt.xticks(rotation=90)  # Rotate x-axis labels for better visibility\n",
    "plt.show()"
   ]
  },
  {
   "cell_type": "markdown",
   "id": "851c7683",
   "metadata": {},
   "source": [
    "Handling Outliers For Quarterly_Tax Column"
   ]
  },
  {
   "cell_type": "code",
   "execution_count": 28,
   "id": "14e35e84",
   "metadata": {},
   "outputs": [
    {
     "name": "stdout",
     "output_type": "stream",
     "text": [
      "maxwhisker_Quarterly_Tax: 109.0\n",
      "minwhisker_Quarterly_Tax: 45.0\n"
     ]
    }
   ],
   "source": [
    "quant3 = df.Quarterly_Tax.quantile([0.75,0.25])\n",
    "Q3_Quarterly_Tax=quant3.loc[0.75]\n",
    "Q1_Quarterly_Tax=quant3.loc[0.25]\n",
    "IQR_Quarterly_Tax = Q3_Quarterly_Tax - Q1_Quarterly_Tax\n",
    "maxwhisker_Quarterly_Tax = Q3_Quarterly_Tax + 1.5 * IQR_Quarterly_Tax\n",
    "print(\"maxwhisker_Quarterly_Tax:\",maxwhisker_Quarterly_Tax)\n",
    "minwhisker_Quarterly_Tax = Q1_Quarterly_Tax - 1.5 * IQR_Quarterly_Tax\n",
    "print(\"minwhisker_Quarterly_Tax:\",minwhisker_Quarterly_Tax)"
   ]
  },
  {
   "cell_type": "code",
   "execution_count": 29,
   "id": "d2a7fb3a",
   "metadata": {},
   "outputs": [
    {
     "data": {
      "text/plain": [
       "0       109.0\n",
       "1       109.0\n",
       "2       109.0\n",
       "3       109.0\n",
       "4       109.0\n",
       "        ...  \n",
       "1431     69.0\n",
       "1432     69.0\n",
       "1433     69.0\n",
       "1434     69.0\n",
       "1435     19.0\n",
       "Name: Quarterly_Tax, Length: 1436, dtype: float64"
      ]
     },
     "execution_count": 29,
     "metadata": {},
     "output_type": "execute_result"
    }
   ],
   "source": [
    "df['Quarterly_Tax'] = np.where(df.Quarterly_Tax>maxwhisker_Quarterly_Tax,maxwhisker_Quarterly_Tax,df.Quarterly_Tax)\n",
    "df['Quarterly_Tax']"
   ]
  },
  {
   "cell_type": "code",
   "execution_count": 30,
   "id": "45c87c12",
   "metadata": {},
   "outputs": [
    {
     "data": {
      "image/png": "[encoded data removed]",
      "text/plain": [
       "<Figure size 1000x600 with 1 Axes>"
      ]
     },
     "metadata": {},
     "output_type": "display_data"
    }
   ],
   "source": [
    "plt.figure(figsize=(10, 6))\n",
    "sns.boxplot(x='Quarterly_Tax', data=df)\n",
    "plt.title('Boxplot for Quarterly_Tax')\n",
    "plt.xlabel('Quarterly_Tax')\n",
    "plt.ylabel('Values')\n",
    "plt.xticks(rotation=90)  # Rotate x-axis labels for better visibility\n",
    "plt.show()"
   ]
  },
  {
   "cell_type": "markdown",
   "id": "18935511",
   "metadata": {},
   "source": [
    "Handling Outliers For CC Column"
   ]
  },
  {
   "cell_type": "code",
   "execution_count": 31,
   "id": "74ff3b67",
   "metadata": {},
   "outputs": [
    {
     "name": "stdout",
     "output_type": "stream",
     "text": [
      "maxwhisker_CC: 1900.0\n",
      "minwhisker_CC: 1100.0\n"
     ]
    }
   ],
   "source": [
    "quant4 = df.CC.quantile([0.75,0.25])\n",
    "Q3_CC=quant4.loc[0.75]\n",
    "Q1_CC=quant4.loc[0.25]\n",
    "IQR_CC = Q3_CC - Q1_CC\n",
    "maxwhisker_CC = Q3_CC + 1.5 * IQR_CC\n",
    "print(\"maxwhisker_CC:\",maxwhisker_CC)\n",
    "minwhisker_CC = Q1_CC - 1.5 * IQR_CC\n",
    "print(\"minwhisker_CC:\",minwhisker_CC)"
   ]
  },
  {
   "cell_type": "code",
   "execution_count": 32,
   "id": "366bc316",
   "metadata": {},
   "outputs": [
    {
     "data": {
      "text/plain": [
       "0       1900.0\n",
       "1       1900.0\n",
       "2       1900.0\n",
       "3       1900.0\n",
       "4       1900.0\n",
       "         ...  \n",
       "1431    1300.0\n",
       "1432    1300.0\n",
       "1433    1300.0\n",
       "1434    1300.0\n",
       "1435    1600.0\n",
       "Name: CC, Length: 1436, dtype: float64"
      ]
     },
     "execution_count": 32,
     "metadata": {},
     "output_type": "execute_result"
    }
   ],
   "source": [
    "df['CC'] = np.where(df.CC>maxwhisker_CC,maxwhisker_CC,df.CC)\n",
    "df['CC']"
   ]
  },
  {
   "cell_type": "code",
   "execution_count": 33,
   "id": "88c79d84",
   "metadata": {},
   "outputs": [
    {
     "data": {
      "image/png": "[encoded data removed]",
      "text/plain": [
       "<Figure size 1000x600 with 1 Axes>"
      ]
     },
     "metadata": {},
     "output_type": "display_data"
    }
   ],
   "source": [
    "plt.figure(figsize=(10, 6))\n",
    "sns.boxplot(x='CC', data=df)\n",
    "plt.title('Boxplot for CC')\n",
    "plt.xlabel('CC')\n",
    "plt.ylabel('Values')\n",
    "plt.xticks(rotation=90)  # Rotate x-axis labels for better visibility\n",
    "plt.show()"
   ]
  },
  {
   "cell_type": "markdown",
   "id": "c708c382",
   "metadata": {},
   "source": [
    "Handling Outliers For KM Column"
   ]
  },
  {
   "cell_type": "code",
   "execution_count": 34,
   "id": "fbfddadd",
   "metadata": {},
   "outputs": [
    {
     "name": "stdout",
     "output_type": "stream",
     "text": [
      "maxwhisker_KM: 153051.875\n",
      "minwhisker_KM: -23031.125\n"
     ]
    }
   ],
   "source": [
    "quant5 = df.KM.quantile([0.75,0.25])\n",
    "Q3_KM=quant5.loc[0.75]\n",
    "Q1_KM=quant5.loc[0.25]\n",
    "IQR_KM = Q3_KM - Q1_KM\n",
    "maxwhisker_KM = Q3_KM + 1.5 * IQR_KM\n",
    "print(\"maxwhisker_KM:\",maxwhisker_KM)\n",
    "minwhisker_KM = Q1_KM - 1.5 * IQR_KM\n",
    "print(\"minwhisker_KM:\",minwhisker_KM)"
   ]
  },
  {
   "cell_type": "code",
   "execution_count": 35,
   "id": "4a31b33b",
   "metadata": {},
   "outputs": [
    {
     "data": {
      "text/plain": [
       "0       46986.0\n",
       "1       72937.0\n",
       "2       41711.0\n",
       "3       48000.0\n",
       "4       38500.0\n",
       "         ...   \n",
       "1431    20544.0\n",
       "1432    19000.0\n",
       "1433    17016.0\n",
       "1434    16916.0\n",
       "1435        1.0\n",
       "Name: KM, Length: 1436, dtype: float64"
      ]
     },
     "execution_count": 35,
     "metadata": {},
     "output_type": "execute_result"
    }
   ],
   "source": [
    "df['KM'] = np.where(df.KM>maxwhisker_KM,maxwhisker_KM,df.KM)\n",
    "df['KM']"
   ]
  },
  {
   "cell_type": "code",
   "execution_count": 36,
   "id": "0eb2adc2",
   "metadata": {},
   "outputs": [
    {
     "data": {
      "image/png": "[encoded data removed]",
      "text/plain": [
       "<Figure size 1000x600 with 1 Axes>"
      ]
     },
     "metadata": {},
     "output_type": "display_data"
    }
   ],
   "source": [
    "plt.figure(figsize=(10, 6))\n",
    "sns.boxplot(x='KM', data=df)\n",
    "plt.title('Boxplot for KM')\n",
    "plt.xlabel('KM')\n",
    "plt.ylabel('Values')\n",
    "plt.xticks(rotation=90)  # Rotate x-axis labels for better visibility\n",
    "plt.show()"
   ]
  },
  {
   "cell_type": "markdown",
   "id": "badf6376",
   "metadata": {},
   "source": [
    "Handling Outliers For Price Column"
   ]
  },
  {
   "cell_type": "code",
   "execution_count": 37,
   "id": "1c788325",
   "metadata": {},
   "outputs": [
    {
     "name": "stdout",
     "output_type": "stream",
     "text": [
      "maxwhisker_Price: 17200.0\n",
      "minwhisker_Price: 3200.0\n"
     ]
    }
   ],
   "source": [
    "quant6 = df.Price.quantile([0.75,0.25])\n",
    "Q3_Price=quant6.loc[0.75]\n",
    "Q1_Price=quant6.loc[0.25]\n",
    "IQR_Price = Q3_Price - Q1_Price\n",
    "maxwhisker_Price = Q3_Price + 1.5 * IQR_Price\n",
    "print(\"maxwhisker_Price:\",maxwhisker_Price)\n",
    "minwhisker_Price = Q1_Price - 1.5 * IQR_Price\n",
    "print(\"minwhisker_Price:\",minwhisker_Price)"
   ]
  },
  {
   "cell_type": "code",
   "execution_count": 38,
   "id": "6b62ffd3",
   "metadata": {},
   "outputs": [
    {
     "data": {
      "text/plain": [
       "0       13500.0\n",
       "1       13750.0\n",
       "2       13950.0\n",
       "3       14950.0\n",
       "4       13750.0\n",
       "         ...   \n",
       "1431     7500.0\n",
       "1432    10845.0\n",
       "1433     8500.0\n",
       "1434     7250.0\n",
       "1435     6950.0\n",
       "Name: Price, Length: 1436, dtype: float64"
      ]
     },
     "execution_count": 38,
     "metadata": {},
     "output_type": "execute_result"
    }
   ],
   "source": [
    "df['Price'] = np.where(df.Price>maxwhisker_Price,maxwhisker_Price,df.Price)\n",
    "df['Price']"
   ]
  },
  {
   "cell_type": "code",
   "execution_count": 39,
   "id": "365663d8",
   "metadata": {},
   "outputs": [
    {
     "data": {
      "image/png": "[encoded data removed]",
      "text/plain": [
       "<Figure size 1000x600 with 1 Axes>"
      ]
     },
     "metadata": {},
     "output_type": "display_data"
    }
   ],
   "source": [
    "plt.figure(figsize=(10, 6))\n",
    "sns.boxplot(x='Price', data=df)\n",
    "plt.title('Boxplot for Price')\n",
    "plt.xlabel('Price')\n",
    "plt.ylabel('Values')\n",
    "plt.xticks(rotation=90)  # Rotate x-axis labels for better visibility\n",
    "plt.show()"
   ]
  },
  {
   "cell_type": "markdown",
   "id": "67446531",
   "metadata": {},
   "source": [
    "## Feature Importance"
   ]
  },
  {
   "cell_type": "code",
   "execution_count": 40,
   "id": "aebcf856",
   "metadata": {},
   "outputs": [
    {
     "data": {
      "image/png": "[encoded data removed]",
      "text/plain": [
       "<Figure size 1600x800 with 1 Axes>"
      ]
     },
     "metadata": {},
     "output_type": "display_data"
    }
   ],
   "source": [
    "# Assuming your DataFrame is named 'df' and you want to predict 'Model' as an example\n",
    "correlations = df.corr()['Model'].abs().sort_values(ascending=False)\n",
    "\n",
    "feature_importance_df = pd.DataFrame({'Feature': correlations.index, 'Importance': correlations.values})\n",
    "\n",
    "plt.figure(figsize=(16, 8))\n",
    "sns.barplot(x='Importance', y='Feature', data=feature_importance_df)\n",
    "plt.title(\"Correlation with Target Variable\")\n",
    "plt.show()"
   ]
  },
  {
   "cell_type": "code",
   "execution_count": 41,
   "id": "59ef263f",
   "metadata": {},
   "outputs": [],
   "source": [
    "features = ['Model', 'Fuel_Type', 'Weight', 'Quarterly_Tax', 'CC', 'Backseat_Divider', 'KM', 'Age_08_04', 'Mfg_Year']"
   ]
  },
  {
   "cell_type": "code",
   "execution_count": 42,
   "id": "0ee26c09",
   "metadata": {},
   "outputs": [],
   "source": [
    "X = df[features]\n",
    "y = df['Price'] "
   ]
  },
  {
   "cell_type": "markdown",
   "id": "37720741",
   "metadata": {},
   "source": [
    "## Train Test Split"
   ]
  },
  {
   "cell_type": "code",
   "execution_count": 43,
   "id": "e4c0a201",
   "metadata": {},
   "outputs": [],
   "source": [
    "from sklearn.model_selection import train_test_split\n",
    "X_train, X_test, y_train, y_test = train_test_split(X, y, test_size=0.2, random_state=42)"
   ]
  },
  {
   "cell_type": "markdown",
   "id": "e29e913c",
   "metadata": {},
   "source": [
    "## Linear Regression"
   ]
  },
  {
   "cell_type": "code",
   "execution_count": 44,
   "id": "21d8ab46",
   "metadata": {},
   "outputs": [
    {
     "name": "stdout",
     "output_type": "stream",
     "text": [
      "Training Accuracy: 86.42695929677465 %\n",
      "Test Accuracy: 85.63648521465423 %\n"
     ]
    }
   ],
   "source": [
    "from sklearn.linear_model import LinearRegression\n",
    "from sklearn.metrics import r2_score\n",
    "linear_model = LinearRegression()\n",
    "\n",
    "linear_model.fit(X_train, y_train)\n",
    "y_pred_train = linear_model.predict(X_train)\n",
    "train_score = r2_score(y_train, y_pred_train)\n",
    "print(\"Training Accuracy:\", train_score * 100, \"%\")\n",
    "\n",
    "y_pred_test = linear_model.predict(X_test)\n",
    "test_score_lr = r2_score(y_test, y_pred_test)\n",
    "print(\"Test Accuracy:\", test_score_lr * 100, \"%\")"
   ]
  },
  {
   "cell_type": "markdown",
   "id": "6c4f8892",
   "metadata": {},
   "source": [
    "## Decision Tree"
   ]
  },
  {
   "cell_type": "code",
   "execution_count": 45,
   "id": "e9dc4e62",
   "metadata": {},
   "outputs": [
    {
     "name": "stdout",
     "output_type": "stream",
     "text": [
      "Training Accuracy: 99.99513667182502 %\n",
      "Test Accuracy: 80.40754019496448 %\n"
     ]
    }
   ],
   "source": [
    "from sklearn.tree import DecisionTreeRegressor\n",
    "dt_model = DecisionTreeRegressor(random_state=42)\n",
    "dt_model.fit(X_train, y_train)\n",
    "\n",
    "y_pred_train = dt_model.predict(X_train)\n",
    "train_score = r2_score(y_train, y_pred_train)\n",
    "print(\"Training Accuracy:\", train_score * 100, \"%\")\n",
    "\n",
    "y_pred_test = dt_model.predict(X_test)\n",
    "test_score_dtr = r2_score(y_test, y_pred_test)\n",
    "print(\"Test Accuracy:\", test_score_dtr * 100, \"%\")"
   ]
  },
  {
   "cell_type": "markdown",
   "id": "a81eae6b",
   "metadata": {},
   "source": [
    "## Random Forest"
   ]
  },
  {
   "cell_type": "code",
   "execution_count": 46,
   "id": "a02b793a",
   "metadata": {},
   "outputs": [
    {
     "name": "stdout",
     "output_type": "stream",
     "text": [
      "Training Accuracy: 98.44891827205028 %\n",
      "Test Accuracy: 88.89776336393625 %\n"
     ]
    }
   ],
   "source": [
    "from sklearn.ensemble import RandomForestRegressor\n",
    "rf_model = RandomForestRegressor(n_estimators=100, random_state=42)\n",
    "rf_model.fit(X_train, y_train)\n",
    "\n",
    "y_pred_train = rf_model.predict(X_train)\n",
    "train_score = r2_score(y_train, y_pred_train)\n",
    "print(\"Training Accuracy:\", train_score * 100, \"%\")\n",
    "\n",
    "y_pred_test = rf_model.predict(X_test)\n",
    "test_score_rf = r2_score(y_test, y_pred_test)\n",
    "print(\"Test Accuracy:\", test_score_rf * 100, \"%\")"
   ]
  },
  {
   "cell_type": "markdown",
   "id": "1bbf5564",
   "metadata": {},
   "source": [
    "## XGBoost"
   ]
  },
  {
   "cell_type": "code",
   "execution_count": 47,
   "id": "758537de",
   "metadata": {},
   "outputs": [
    {
     "name": "stdout",
     "output_type": "stream",
     "text": [
      "Training Accuracy: 99.63947687554707 %\n",
      "Test Accuracy: 88.92498792718943 %\n"
     ]
    }
   ],
   "source": [
    "from xgboost import XGBRegressor\n",
    "xgb_model = XGBRegressor(objective ='reg:squarederror', random_state=42)\n",
    "xgb_model.fit(X_train, y_train)\n",
    "\n",
    "y_pred_train = xgb_model.predict(X_train)\n",
    "train_score = r2_score(y_train, y_pred_train)\n",
    "print(\"Training Accuracy:\", train_score * 100, \"%\")\n",
    "\n",
    "y_pred_test = xgb_model.predict(X_test)\n",
    "test_score_xgb = r2_score(y_test, y_pred_test)\n",
    "print(\"Test Accuracy:\", test_score_xgb * 100, \"%\")"
   ]
  },
  {
   "cell_type": "code",
   "execution_count": 48,
   "id": "6aa0cd90",
   "metadata": {},
   "outputs": [
    {
     "data": {
      "text/html": [
       "<div>\n",
       "<style scoped>\n",
       "    .dataframe tbody tr th:only-of-type {\n",
       "        vertical-align: middle;\n",
       "    }\n",
       "\n",
       "    .dataframe tbody tr th {\n",
       "        vertical-align: top;\n",
       "    }\n",
       "\n",
       "    .dataframe thead th {\n",
       "        text-align: right;\n",
       "    }\n",
       "</style>\n",
       "<table border=\"1\" class=\"dataframe\">\n",
       "  <thead>\n",
       "    <tr style=\"text-align: right;\">\n",
       "      <th></th>\n",
       "      <th>Model</th>\n",
       "      <th>Fuel_Type</th>\n",
       "      <th>Weight</th>\n",
       "      <th>Quarterly_Tax</th>\n",
       "      <th>CC</th>\n",
       "      <th>Backseat_Divider</th>\n",
       "      <th>KM</th>\n",
       "      <th>Age_08_04</th>\n",
       "      <th>Mfg_Year</th>\n",
       "    </tr>\n",
       "  </thead>\n",
       "  <tbody>\n",
       "    <tr>\n",
       "      <th>0</th>\n",
       "      <td>274</td>\n",
       "      <td>2.0</td>\n",
       "      <td>1152.5</td>\n",
       "      <td>109.0</td>\n",
       "      <td>1900.0</td>\n",
       "      <td>1</td>\n",
       "      <td>46986.0</td>\n",
       "      <td>23</td>\n",
       "      <td>2002</td>\n",
       "    </tr>\n",
       "    <tr>\n",
       "      <th>1</th>\n",
       "      <td>274</td>\n",
       "      <td>2.0</td>\n",
       "      <td>1152.5</td>\n",
       "      <td>109.0</td>\n",
       "      <td>1900.0</td>\n",
       "      <td>1</td>\n",
       "      <td>72937.0</td>\n",
       "      <td>23</td>\n",
       "      <td>2002</td>\n",
       "    </tr>\n",
       "    <tr>\n",
       "      <th>2</th>\n",
       "      <td>274</td>\n",
       "      <td>2.0</td>\n",
       "      <td>1152.5</td>\n",
       "      <td>109.0</td>\n",
       "      <td>1900.0</td>\n",
       "      <td>1</td>\n",
       "      <td>41711.0</td>\n",
       "      <td>24</td>\n",
       "      <td>2002</td>\n",
       "    </tr>\n",
       "    <tr>\n",
       "      <th>3</th>\n",
       "      <td>274</td>\n",
       "      <td>2.0</td>\n",
       "      <td>1152.5</td>\n",
       "      <td>109.0</td>\n",
       "      <td>1900.0</td>\n",
       "      <td>1</td>\n",
       "      <td>48000.0</td>\n",
       "      <td>26</td>\n",
       "      <td>2002</td>\n",
       "    </tr>\n",
       "    <tr>\n",
       "      <th>4</th>\n",
       "      <td>273</td>\n",
       "      <td>2.0</td>\n",
       "      <td>1152.5</td>\n",
       "      <td>109.0</td>\n",
       "      <td>1900.0</td>\n",
       "      <td>1</td>\n",
       "      <td>38500.0</td>\n",
       "      <td>30</td>\n",
       "      <td>2002</td>\n",
       "    </tr>\n",
       "  </tbody>\n",
       "</table>\n",
       "</div>"
      ],
      "text/plain": [
       "   Model  Fuel_Type  Weight  Quarterly_Tax      CC  Backseat_Divider       KM  \\\n",
       "0    274        2.0  1152.5          109.0  1900.0                 1  46986.0   \n",
       "1    274        2.0  1152.5          109.0  1900.0                 1  72937.0   \n",
       "2    274        2.0  1152.5          109.0  1900.0                 1  41711.0   \n",
       "3    274        2.0  1152.5          109.0  1900.0                 1  48000.0   \n",
       "4    273        2.0  1152.5          109.0  1900.0                 1  38500.0   \n",
       "\n",
       "   Age_08_04  Mfg_Year  \n",
       "0         23      2002  \n",
       "1         23      2002  \n",
       "2         24      2002  \n",
       "3         26      2002  \n",
       "4         30      2002  "
      ]
     },
     "execution_count": 48,
     "metadata": {},
     "output_type": "execute_result"
    }
   ],
   "source": [
    "df[['Model', 'Fuel_Type', 'Weight', 'Quarterly_Tax', 'CC', 'Backseat_Divider', 'KM', 'Age_08_04', 'Mfg_Year']].head()"
   ]
  },
  {
   "cell_type": "markdown",
   "id": "c53766fc",
   "metadata": {},
   "source": [
    "## Predicting"
   ]
  },
  {
   "cell_type": "code",
   "execution_count": 49,
   "id": "19ee918a",
   "metadata": {},
   "outputs": [
    {
     "name": "stdout",
     "output_type": "stream",
     "text": [
      "[14504.5]\n"
     ]
    },
    {
     "name": "stderr",
     "output_type": "stream",
     "text": [
      "C:\\Users\\venka\\anaconda3\\Lib\\site-packages\\sklearn\\base.py:465: UserWarning: X does not have valid feature names, but RandomForestRegressor was fitted with feature names\n",
      "  warnings.warn(\n"
     ]
    }
   ],
   "source": [
    "print(rf_model.predict([[274,2,1125,254,1900,1,72937,26,2002]]))"
   ]
  },
  {
   "cell_type": "markdown",
   "id": "bb4010d9",
   "metadata": {},
   "source": [
    "## Models Accuracy Plot"
   ]
  },
  {
   "cell_type": "code",
   "execution_count": 50,
   "id": "8b46bb29",
   "metadata": {},
   "outputs": [
    {
     "data": {
      "image/png": "[encoded data removed]",
      "text/plain": [
       "<Figure size 640x480 with 1 Axes>"
      ]
     },
     "metadata": {},
     "output_type": "display_data"
    }
   ],
   "source": [
    "models=['logistic regression','decision tree','random forest','xgboost']\n",
    "accuracy=[test_score_lr*100,test_score_dtr*100,test_score_rf*100,test_score_xgb*100]\n",
    "sns.barplot(x=models,y=accuracy,color='Green')\n",
    "plt.show()"
   ]
  },
  {
   "cell_type": "code",
   "execution_count": 51,
   "id": "48d59399",
   "metadata": {},
   "outputs": [],
   "source": [
    "import pickle\n",
    "pickle.dump(rf_model,open(\"rf_toyota.pkl\",\"wb\"))"
   ]
  },
  {
   "cell_type": "code",
   "execution_count": null,
   "id": "bb56287f",
   "metadata": {},
   "outputs": [],
   "source": []
  }
 ],
 "metadata": {
  "kernelspec": {
   "display_name": "Python 3 (ipykernel)",
   "language": "python",
   "name": "python3"
  },
  "language_info": {
   "codemirror_mode": {
    "name": "ipython",
    "version": 3
   },
   "file_extension": ".py",
   "mimetype": "text/x-python",
   "name": "python",
   "nbconvert_exporter": "python",
   "pygments_lexer": "ipython3",
   "version": "3.11.5"
  }
 },
 "nbformat": 4,
 "nbformat_minor": 5
}
